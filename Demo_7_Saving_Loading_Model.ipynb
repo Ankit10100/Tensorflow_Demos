{
  "nbformat": 4,
  "nbformat_minor": 0,
  "metadata": {
    "colab": {
      "name": "Demo_7_Saving_Loading_Model.ipynb",
      "provenance": [],
      "authorship_tag": "ABX9TyP85CSrB20aCE+almqnrfsH",
      "include_colab_link": true
    },
    "kernelspec": {
      "name": "python3",
      "display_name": "Python 3"
    }
  },
  "cells": [
    {
      "cell_type": "markdown",
      "metadata": {
        "id": "view-in-github",
        "colab_type": "text"
      },
      "source": [
        "<a href=\"https://colab.research.google.com/github/Ankit10100/Tensorflow_Demos/blob/master/Demo_7_Saving_Loading_Model.ipynb\" target=\"_parent\"><img src=\"https://colab.research.google.com/assets/colab-badge.svg\" alt=\"Open In Colab\"/></a>"
      ]
    },
    {
      "cell_type": "code",
      "metadata": {
        "id": "XgZxBS-w4HSN"
      },
      "source": [
        "import tensorflow as tf\n",
        "from tensorflow.keras.models import Sequential\n",
        "from tensorflow.keras.layers import Dense, Flatten, Conv2D, MaxPooling2D\n",
        "\n",
        "import numpy as np"
      ],
      "execution_count": null,
      "outputs": []
    },
    {
      "cell_type": "code",
      "metadata": {
        "colab": {
          "base_uri": "https://localhost:8080/"
        },
        "id": "kVdV_yxn4NIC",
        "outputId": "4add8fab-9a7d-46cb-9320-51fbbb849864"
      },
      "source": [
        "mnist_data = tf.keras.datasets.mnist\n",
        "(train_images, train_labels), (test_images, test_labels) = mnist_data.load_data()"
      ],
      "execution_count": null,
      "outputs": [
        {
          "output_type": "stream",
          "text": [
            "Downloading data from https://storage.googleapis.com/tensorflow/tf-keras-datasets/mnist.npz\n",
            "11493376/11490434 [==============================] - 0s 0us/step\n"
          ],
          "name": "stdout"
        }
      ]
    },
    {
      "cell_type": "code",
      "metadata": {
        "id": "imviumRD4WYs"
      },
      "source": [
        "model_cnn = Sequential([\n",
        "                          Conv2D(8, kernel_size = 3, padding = 'SAME', activation = 'relu', input_shape = (28, 28, 1)),\n",
        "                          MaxPooling2D(pool_size = 3),\n",
        "                          Flatten(),\n",
        "                          Dense(10, activation = 'softmax')\n",
        "                          ])\n",
        "\n",
        "model_cnn.compile(optimizer = 'adam', loss = tf.keras.losses.SparseCategoricalCrossentropy(), metrics = ['accuracy'])"
      ],
      "execution_count": null,
      "outputs": []
    },
    {
      "cell_type": "code",
      "metadata": {
        "id": "pstcIV9O4Zkf"
      },
      "source": [
        "#Tell why we are adding a dummy axis, \n",
        "#See documentation of TF Conv2D\n",
        "\n",
        "scaled_train_images = train_images[..., np.newaxis]\n",
        "scaled_test_images = test_images[..., np.newaxis]"
      ],
      "execution_count": null,
      "outputs": []
    },
    {
      "cell_type": "code",
      "metadata": {
        "colab": {
          "base_uri": "https://localhost:8080/"
        },
        "id": "XQemxm9-54xo",
        "outputId": "e9274ae3-4127-49c0-c29a-8878fddfd999"
      },
      "source": [
        "history = model_cnn.fit(scaled_train_images, train_labels, epochs = 2)"
      ],
      "execution_count": null,
      "outputs": [
        {
          "output_type": "stream",
          "text": [
            "Epoch 1/2\n",
            "1875/1875 [==============================] - 17s 9ms/step - loss: 9.1138 - accuracy: 0.7652\n",
            "Epoch 2/2\n",
            "1875/1875 [==============================] - 16s 9ms/step - loss: 0.4355 - accuracy: 0.9353\n"
          ],
          "name": "stdout"
        }
      ]
    },
    {
      "cell_type": "code",
      "metadata": {
        "colab": {
          "base_uri": "https://localhost:8080/"
        },
        "id": "k8KUDs1L5_r3",
        "outputId": "75c9ca9e-1829-4ef1-a992-a21311b62e53"
      },
      "source": [
        "! ls -l"
      ],
      "execution_count": null,
      "outputs": [
        {
          "output_type": "stream",
          "text": [
            "total 4\n",
            "drwxr-xr-x 1 root root 4096 Feb  4 15:26 sample_data\n"
          ],
          "name": "stdout"
        }
      ]
    },
    {
      "cell_type": "code",
      "metadata": {
        "id": "2mOqkTXr6Cei",
        "colab": {
          "base_uri": "https://localhost:8080/"
        },
        "outputId": "508849ea-1dc6-4f39-ab0e-9f5737d6c97e"
      },
      "source": [
        "model_cnn.save(\"trainned\")"
      ],
      "execution_count": null,
      "outputs": [
        {
          "output_type": "stream",
          "text": [
            "INFO:tensorflow:Assets written to: trainned/assets\n"
          ],
          "name": "stdout"
        }
      ]
    },
    {
      "cell_type": "code",
      "metadata": {
        "colab": {
          "base_uri": "https://localhost:8080/"
        },
        "id": "USGXQ0yoLxPn",
        "outputId": "f8f49f85-b5eb-43ea-ea38-f433b2401192"
      },
      "source": [
        "! ls -l"
      ],
      "execution_count": null,
      "outputs": [
        {
          "output_type": "stream",
          "text": [
            "total 8\n",
            "drwxr-xr-x 1 root root 4096 Feb  4 15:26 sample_data\n",
            "drwxr-xr-x 4 root root 4096 Feb 10 18:23 trainned\n"
          ],
          "name": "stdout"
        }
      ]
    },
    {
      "cell_type": "code",
      "metadata": {
        "id": "6k7g_nHxL1mp"
      },
      "source": [
        "#Save automatically at the end of every epoch using model checkpoints\n",
        "\n",
        "from tensorflow.keras.callbacks import ModelCheckpoint"
      ],
      "execution_count": null,
      "outputs": []
    },
    {
      "cell_type": "code",
      "metadata": {
        "id": "VvPIsjXLMu9L"
      },
      "source": [
        "checkpoint = ModelCheckpoint(\"folder/my_model\")"
      ],
      "execution_count": null,
      "outputs": []
    },
    {
      "cell_type": "code",
      "metadata": {
        "colab": {
          "base_uri": "https://localhost:8080/"
        },
        "id": "7v5HrgwSM5yD",
        "outputId": "4f9d7138-6571-4881-e273-246880b0b9f2"
      },
      "source": [
        "model_cnn.fit(scaled_train_images, train_labels, epochs = 3, callbacks=[checkpoint])"
      ],
      "execution_count": null,
      "outputs": [
        {
          "output_type": "stream",
          "text": [
            "Epoch 1/3\n",
            "1875/1875 [==============================] - 17s 9ms/step - loss: 0.0811 - accuracy: 0.9744\n",
            "INFO:tensorflow:Assets written to: folder/my_model/assets\n",
            "Epoch 2/3\n",
            "1875/1875 [==============================] - 17s 9ms/step - loss: 0.0764 - accuracy: 0.9762\n",
            "INFO:tensorflow:Assets written to: folder/my_model/assets\n",
            "Epoch 3/3\n",
            "1875/1875 [==============================] - 17s 9ms/step - loss: 0.0747 - accuracy: 0.9769\n",
            "INFO:tensorflow:Assets written to: folder/my_model/assets\n"
          ],
          "name": "stdout"
        },
        {
          "output_type": "execute_result",
          "data": {
            "text/plain": [
              "<tensorflow.python.keras.callbacks.History at 0x7f0e2d2c71d0>"
            ]
          },
          "metadata": {
            "tags": []
          },
          "execution_count": 12
        }
      ]
    },
    {
      "cell_type": "code",
      "metadata": {
        "id": "dKZyg9cfM9rN"
      },
      "source": [
        ""
      ],
      "execution_count": null,
      "outputs": []
    }
  ]
}