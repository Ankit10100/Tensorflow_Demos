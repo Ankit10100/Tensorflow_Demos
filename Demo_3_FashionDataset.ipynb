{
  "nbformat": 4,
  "nbformat_minor": 0,
  "metadata": {
    "colab": {
      "name": "Demo_3_FashionDataset.ipynb",
      "provenance": [],
      "authorship_tag": "ABX9TyMbo62z6CmwIZGda0wodASR",
      "include_colab_link": true
    },
    "kernelspec": {
      "name": "python3",
      "display_name": "Python 3"
    }
  },
  "cells": [
    {
      "cell_type": "markdown",
      "metadata": {
        "id": "view-in-github",
        "colab_type": "text"
      },
      "source": [
        "<a href=\"https://colab.research.google.com/github/Ankit10100/Tensorflow_Demos/blob/master/Demo_3_FashionDataset.ipynb\" target=\"_parent\"><img src=\"https://colab.research.google.com/assets/colab-badge.svg\" alt=\"Open In Colab\"/></a>"
      ]
    },
    {
      "cell_type": "code",
      "metadata": {
        "id": "IdnM-cFq0pyy"
      },
      "source": [
        "import tensorflow as tf\n",
        "import matplotlib.pyplot as plt"
      ],
      "execution_count": null,
      "outputs": []
    },
    {
      "cell_type": "code",
      "metadata": {
        "colab": {
          "base_uri": "https://localhost:8080/"
        },
        "id": "3NGu3x5j1Lwp",
        "outputId": "6b987558-dfc7-4ef8-abd2-4b26f39c33e2"
      },
      "source": [
        "# Load the Fashion-MNIST dataset\n",
        "\n",
        "fashion_mnist_data = tf.keras.datasets.fashion_mnist\n",
        "(train_images, train_labels), (test_images, test_labels) = fashion_mnist_data.load_data()"
      ],
      "execution_count": null,
      "outputs": [
        {
          "output_type": "stream",
          "text": [
            "Downloading data from https://storage.googleapis.com/tensorflow/tf-keras-datasets/train-labels-idx1-ubyte.gz\n",
            "32768/29515 [=================================] - 0s 0us/step\n",
            "Downloading data from https://storage.googleapis.com/tensorflow/tf-keras-datasets/train-images-idx3-ubyte.gz\n",
            "26427392/26421880 [==============================] - 0s 0us/step\n",
            "Downloading data from https://storage.googleapis.com/tensorflow/tf-keras-datasets/t10k-labels-idx1-ubyte.gz\n",
            "8192/5148 [===============================================] - 0s 0us/step\n",
            "Downloading data from https://storage.googleapis.com/tensorflow/tf-keras-datasets/t10k-images-idx3-ubyte.gz\n",
            "4423680/4422102 [==============================] - 0s 0us/step\n"
          ],
          "name": "stdout"
        }
      ]
    },
    {
      "cell_type": "code",
      "metadata": {
        "colab": {
          "base_uri": "https://localhost:8080/"
        },
        "id": "vwKJhNYQ1OFQ",
        "outputId": "70fe9a07-3d71-4482-8ee2-cea8b9fc4c98"
      },
      "source": [
        "print(\"Train Images Shape:\", train_images.shape)\n",
        "print(\"Train Labels Shape:\", train_labels.shape)"
      ],
      "execution_count": null,
      "outputs": [
        {
          "output_type": "stream",
          "text": [
            "Train Images Shape: (60000, 28, 28)\n",
            "Train Labels Shape: (60000,)\n"
          ],
          "name": "stdout"
        }
      ]
    },
    {
      "cell_type": "code",
      "metadata": {
        "id": "2eWR93Xh1o9D"
      },
      "source": [
        "label_name = {\n",
        "    0:\t\"T-shirt/top\",\n",
        "    1:\t\"Trouser\",\n",
        "    2:\t\"Pullover\",\n",
        "    3:\t\"Dress\",\n",
        "    4:\t\"Coat\",\n",
        "    5:\t\"Sandal\",\n",
        "    6:\t\"Shirt\",\n",
        "    7:\t\"Sneaker\",\n",
        "    8:\t\"Bag\",\n",
        "    9:\t\"Ankle boot\"\n",
        "}\n",
        "\n",
        "def showImage(index):\n",
        "    image = test_images[index]\n",
        "    label = test_labels[index]\n",
        "    figure = plt.figure\n",
        "    plt.imshow(image, cmap='gray')\n",
        "    plt.show()\n",
        "    print(\"Label: \", label_name[label])"
      ],
      "execution_count": null,
      "outputs": []
    },
    {
      "cell_type": "code",
      "metadata": {
        "colab": {
          "base_uri": "https://localhost:8080/",
          "height": 282
        },
        "id": "_6cqqbxt2SY5",
        "outputId": "a14f53e1-751f-4da2-9990-6bb8f0f3e180"
      },
      "source": [
        "showImage(5)"
      ],
      "execution_count": null,
      "outputs": [
        {
          "output_type": "display_data",
          "data": {
            "image/png": "[encoded data removed]",
            "text/plain": [
              "<Figure size 432x288 with 1 Axes>"
            ]
          },
          "metadata": {
            "tags": [],
            "needs_background": "light"
          }
        },
        {
          "output_type": "stream",
          "text": [
            "Label:  Trouser\n"
          ],
          "name": "stdout"
        }
      ]
    },
    {
      "cell_type": "code",
      "metadata": {
        "id": "CTIWxK5Q2UUo"
      },
      "source": [
        ""
      ],
      "execution_count": null,
      "outputs": []
    }
  ]
}