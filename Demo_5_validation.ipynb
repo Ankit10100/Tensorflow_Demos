{
  "nbformat": 4,
  "nbformat_minor": 0,
  "metadata": {
    "colab": {
      "name": "Demo_5_validation.ipynb",
      "provenance": [],
      "authorship_tag": "ABX9TyPl+gCTPU8htPhu4t/Gwdxu",
      "include_colab_link": true
    },
    "kernelspec": {
      "name": "python3",
      "display_name": "Python 3"
    }
  },
  "cells": [
    {
      "cell_type": "markdown",
      "metadata": {
        "id": "view-in-github",
        "colab_type": "text"
      },
      "source": [
        "<a href=\"https://colab.research.google.com/github/Ankit10100/Tensorflow_Demos/blob/master/Demo_5_validation.ipynb\" target=\"_parent\"><img src=\"https://colab.research.google.com/assets/colab-badge.svg\" alt=\"Open In Colab\"/></a>"
      ]
    },
    {
      "cell_type": "code",
      "metadata": {
        "id": "xYzJa3O29FTn"
      },
      "source": [
        "import tensorflow as tf\n",
        "from tensorflow.keras.models import Sequential\n",
        "from tensorflow.keras.layers import Dense, Flatten, Conv2D, MaxPooling2D\n",
        "\n",
        "import numpy as np"
      ],
      "execution_count": null,
      "outputs": []
    },
    {
      "cell_type": "code",
      "metadata": {
        "colab": {
          "base_uri": "https://localhost:8080/"
        },
        "id": "Snk1vKB-9Nhu",
        "outputId": "639d1516-5fae-46ba-a0fc-e7075e48550c"
      },
      "source": [
        "mnist_data = tf.keras.datasets.mnist\n",
        "(train_images, train_labels), (test_images, test_labels) = mnist_data.load_data()"
      ],
      "execution_count": null,
      "outputs": [
        {
          "output_type": "stream",
          "text": [
            "Downloading data from https://storage.googleapis.com/tensorflow/tf-keras-datasets/mnist.npz\n",
            "11493376/11490434 [==============================] - 0s 0us/step\n"
          ],
          "name": "stdout"
        }
      ]
    },
    {
      "cell_type": "code",
      "metadata": {
        "id": "ldO8AtoE9PHF"
      },
      "source": [
        "model_cnn = Sequential([\n",
        "                          Conv2D(8, kernel_size = 3, padding = 'SAME', activation = 'relu', input_shape = (28, 28, 1)),\n",
        "                          MaxPooling2D(pool_size = 3),\n",
        "                          Flatten(),\n",
        "                          # Dense(10, activation = 'relu'),\n",
        "                          # Dense(10, activation = 'relu'),\n",
        "                          Dense(10, activation = 'softmax')\n",
        "                          ])\n",
        "\n",
        "model_cnn.compile(optimizer = 'adam', loss = tf.keras.losses.SparseCategoricalCrossentropy(), metrics = ['accuracy'])"
      ],
      "execution_count": null,
      "outputs": []
    },
    {
      "cell_type": "code",
      "metadata": {
        "id": "Rf_fv94x9RYH"
      },
      "source": [
        "#Tell why we are adding a dummy axis, \n",
        "#See documentation of TF Conv2D\n",
        "\n",
        "scaled_train_images = train_images[..., np.newaxis]\n",
        "scaled_test_images = test_images[..., np.newaxis]"
      ],
      "execution_count": null,
      "outputs": []
    },
    {
      "cell_type": "code",
      "metadata": {
        "colab": {
          "base_uri": "https://localhost:8080/"
        },
        "id": "VIBUyS_S9UZ3",
        "outputId": "abcfc4c1-fd36-494c-d2ab-984cfb7fb34e"
      },
      "source": [
        "#20% data will be used for validation and rest 80% will be used for trainning\n",
        "\n",
        "history = model_cnn.fit(scaled_train_images, train_labels, epochs = 5, validation_split=0.2)"
      ],
      "execution_count": null,
      "outputs": [
        {
          "output_type": "stream",
          "text": [
            "Epoch 1/5\n",
            "1500/1500 [==============================] - 15s 10ms/step - loss: 0.0785 - accuracy: 0.9756 - val_loss: 0.0754 - val_accuracy: 0.9786\n",
            "Epoch 2/5\n",
            "1500/1500 [==============================] - 15s 10ms/step - loss: 0.0750 - accuracy: 0.9768 - val_loss: 0.0745 - val_accuracy: 0.9792\n",
            "Epoch 3/5\n",
            "1500/1500 [==============================] - 15s 10ms/step - loss: 0.0711 - accuracy: 0.9780 - val_loss: 0.1011 - val_accuracy: 0.9699\n",
            "Epoch 4/5\n",
            "1500/1500 [==============================] - 15s 10ms/step - loss: 0.0674 - accuracy: 0.9779 - val_loss: 0.0875 - val_accuracy: 0.9753\n",
            "Epoch 5/5\n",
            "1500/1500 [==============================] - 20s 13ms/step - loss: 0.0642 - accuracy: 0.9797 - val_loss: 0.1145 - val_accuracy: 0.9716\n"
          ],
          "name": "stdout"
        }
      ]
    },
    {
      "cell_type": "code",
      "metadata": {
        "id": "L__1QibH9Wd3"
      },
      "source": [
        ""
      ],
      "execution_count": null,
      "outputs": []
    }
  ]
}