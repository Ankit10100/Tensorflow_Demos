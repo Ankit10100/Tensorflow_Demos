{
  "nbformat": 4,
  "nbformat_minor": 0,
  "metadata": {
    "colab": {
      "name": "Demo_9_TF_1.ipynb",
      "provenance": [],
      "authorship_tag": "ABX9TyOoF2vpQVzTgFXXZbnnTz2Y",
      "include_colab_link": true
    },
    "kernelspec": {
      "display_name": "Python 3",
      "name": "python3"
    }
  },
  "cells": [
    {
      "cell_type": "markdown",
      "metadata": {
        "id": "view-in-github",
        "colab_type": "text"
      },
      "source": [
        "<a href=\"https://colab.research.google.com/github/Ankit10100/Tensorflow_Demos/blob/master/Demo_9_TF_1.ipynb\" target=\"_parent\"><img src=\"https://colab.research.google.com/assets/colab-badge.svg\" alt=\"Open In Colab\"/></a>"
      ]
    },
    {
      "cell_type": "code",
      "metadata": {
        "id": "xN7XMU6gZArC"
      },
      "source": [
        "import tensorflow.compat.v1 as tf\n",
        "tf.disable_v2_behavior()"
      ],
      "execution_count": null,
      "outputs": []
    },
    {
      "cell_type": "code",
      "metadata": {
        "id": "BdttTFfcaeKt"
      },
      "source": [
        "a = tf.constant(3.0, dtype=tf.float32)\n",
        "b = tf.constant(4.0, dtype=tf.float32)\n",
        "total = a + b"
      ],
      "execution_count": null,
      "outputs": []
    },
    {
      "cell_type": "code",
      "metadata": {
        "colab": {
          "base_uri": "https://localhost:8080/",
          "height": 35
        },
        "id": "pFHR41nEm2oO",
        "outputId": "c10bbe4e-cf1f-43f6-a3b3-542a99ff76c1"
      },
      "source": [
        "#import tensorflow as tf\n",
        "tf.__version__"
      ],
      "execution_count": null,
      "outputs": [
        {
          "output_type": "execute_result",
          "data": {
            "application/vnd.google.colaboratory.intrinsic+json": {
              "type": "string"
            },
            "text/plain": [
              "'2.4.1'"
            ]
          },
          "metadata": {
            "tags": []
          },
          "execution_count": 2
        }
      ]
    },
    {
      "cell_type": "code",
      "metadata": {
        "colab": {
          "base_uri": "https://localhost:8080/"
        },
        "id": "xZ2DP3YqapG-",
        "outputId": "967b0163-fc70-4276-f538-41ce5491d1d9"
      },
      "source": [
        "sess = tf.Session()\n",
        "result = sess.run(total)\n",
        "result"
      ],
      "execution_count": null,
      "outputs": [
        {
          "output_type": "execute_result",
          "data": {
            "text/plain": [
              "7.0"
            ]
          },
          "metadata": {
            "tags": []
          },
          "execution_count": 6
        }
      ]
    },
    {
      "cell_type": "code",
      "metadata": {
        "id": "YEpti2oda4HJ"
      },
      "source": [
        ""
      ],
      "execution_count": null,
      "outputs": []
    },
    {
      "cell_type": "code",
      "metadata": {
        "id": "VLMqoysobbUp"
      },
      "source": [
        ""
      ],
      "execution_count": null,
      "outputs": []
    },
    {
      "cell_type": "code",
      "metadata": {
        "id": "YtBZQ7kubbfA"
      },
      "source": [
        "#Minimize a function\n",
        "#w^2 - 10*w + 25\n",
        "\n",
        "w = tf.Variable(0, dtype=tf.float32)\n",
        "cost = w**2 - 10*w + 25\n",
        "\n",
        "train = tf.train.GradientDescentOptimizer(0.01).minimize(cost)"
      ],
      "execution_count": null,
      "outputs": []
    },
    {
      "cell_type": "code",
      "metadata": {
        "colab": {
          "background_save": true
        },
        "id": "JNABrSfPcF-N"
      },
      "source": [
        "init = tf.global_variables_initializer()\n",
        "session = tf.Session()\n",
        "session.run(init)"
      ],
      "execution_count": null,
      "outputs": []
    },
    {
      "cell_type": "code",
      "metadata": {
        "colab": {
          "base_uri": "https://localhost:8080/"
        },
        "id": "DBlyYF2XcXa5",
        "outputId": "23014825-524d-42e3-a7f1-9d209b613969"
      },
      "source": [
        "print(session.run(w))"
      ],
      "execution_count": null,
      "outputs": [
        {
          "output_type": "stream",
          "text": [
            "0.0\n"
          ],
          "name": "stdout"
        }
      ]
    },
    {
      "cell_type": "code",
      "metadata": {
        "colab": {
          "base_uri": "https://localhost:8080/"
        },
        "id": "BDKNOEzQcaEj",
        "outputId": "52692380-9582-42d1-bbc5-4e109338a602"
      },
      "source": [
        "#After one iteration of GD\n",
        "session.run(train)\n",
        "print(session.run(w))"
      ],
      "execution_count": null,
      "outputs": [
        {
          "output_type": "stream",
          "text": [
            "0.099999994\n"
          ],
          "name": "stdout"
        }
      ]
    },
    {
      "cell_type": "code",
      "metadata": {
        "colab": {
          "base_uri": "https://localhost:8080/"
        },
        "id": "anBRuUUycgYK",
        "outputId": "eb60d792-670d-47b8-a120-01c86b87556a"
      },
      "source": [
        "for i in range(1000):\n",
        "  session.run(train)\n",
        "print(session.run(w))"
      ],
      "execution_count": null,
      "outputs": [
        {
          "output_type": "stream",
          "text": [
            "4.999988\n"
          ],
          "name": "stdout"
        }
      ]
    },
    {
      "cell_type": "code",
      "metadata": {
        "id": "qPgd0OxTco7_"
      },
      "source": [
        ""
      ],
      "execution_count": null,
      "outputs": []
    },
    {
      "cell_type": "code",
      "metadata": {
        "id": "P0ZAUUCTdR5Y"
      },
      "source": [
        "import numpy as np"
      ],
      "execution_count": null,
      "outputs": []
    },
    {
      "cell_type": "code",
      "metadata": {
        "id": "9WsqdpkDdR8P"
      },
      "source": [
        "#Give trainning data"
      ],
      "execution_count": null,
      "outputs": []
    },
    {
      "cell_type": "code",
      "metadata": {
        "id": "NAZPti_udUyV"
      },
      "source": [
        "x = tf.placeholder(tf.float32, [None, 20]) #First dim is None because the number of trainning data can be given at time of trainning\n",
        "y = tf.placeholder(tf.float32, [None, 5])"
      ],
      "execution_count": null,
      "outputs": []
    },
    {
      "cell_type": "code",
      "metadata": {
        "id": "MK1SIzMVdlbS"
      },
      "source": [
        "W = tf.get_variable(\"W\", shape = (20, 5), initializer=tf.initializers.glorot_normal())\n",
        "b = tf.get_variable(\"b\", shape=(5, ), initializer=tf.initializers.zeros())\n",
        "\n",
        "h = tf.matmul(x, W) + b"
      ],
      "execution_count": null,
      "outputs": []
    },
    {
      "cell_type": "code",
      "metadata": {
        "id": "ofMUIBUOeANt"
      },
      "source": [
        "loss = tf.losses.mean_squared_error(h, y)\n",
        "opt = tf.train.GradientDescentOptimizer(0.001)\n",
        "train_op = opt.minimize(loss)"
      ],
      "execution_count": null,
      "outputs": []
    },
    {
      "cell_type": "code",
      "metadata": {
        "id": "uNRLVWxfeNY1"
      },
      "source": [
        "def get_next(data):\n",
        "  #It gets the next batch of data\n",
        "  return (np.random.rand(3,20), np.random.rand(3,5))\n",
        "\n",
        "train_batch = np.random.rand(3,2) #Its our trainning data\n",
        "\n",
        "max_steps = 1000\n",
        "with tf.Session() as sess:\n",
        "  sess.run(tf.global_variables_initializer())\n",
        "  for step in range(max_steps):\n",
        "    x_batch, y_batch = get_next(train_batch)\n",
        "    _, batch_loss = sess.run([train_op, loss], feed_dict={x: x_batch, y: y_batch})"
      ],
      "execution_count": null,
      "outputs": []
    },
    {
      "cell_type": "code",
      "metadata": {
        "colab": {
          "base_uri": "https://localhost:8080/"
        },
        "id": "_HU11fWBerzp",
        "outputId": "39baca31-cb53-450b-88af-87e2010adcb9"
      },
      "source": [
        "batch_loss"
      ],
      "execution_count": null,
      "outputs": [
        {
          "output_type": "execute_result",
          "data": {
            "text/plain": [
              "0.13903883"
            ]
          },
          "metadata": {
            "tags": []
          },
          "execution_count": 34
        }
      ]
    },
    {
      "cell_type": "code",
      "metadata": {
        "id": "rK4wAw8_fsve"
      },
      "source": [
        ""
      ],
      "execution_count": null,
      "outputs": []
    }
  ]
}